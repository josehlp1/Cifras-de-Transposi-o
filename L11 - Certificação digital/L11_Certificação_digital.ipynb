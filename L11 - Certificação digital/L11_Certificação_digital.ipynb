{
  "nbformat": 4,
  "nbformat_minor": 0,
  "metadata": {
    "colab": {
      "provenance": []
    },
    "kernelspec": {
      "name": "python3",
      "display_name": "Python 3"
    },
    "language_info": {
      "name": "python"
    }
  },
  "cells": [
    {
      "cell_type": "code",
      "execution_count": 3,
      "metadata": {
        "colab": {
          "base_uri": "https://localhost:8080/"
        },
        "id": "U76FPcT7e5nn",
        "outputId": "b12e933d-86e6-4b93-8ee6-27f6870b742b"
      },
      "outputs": [
        {
          "output_type": "stream",
          "name": "stdout",
          "text": [
            "Certificado: certificado1.crt\n",
            "Proprietário: <Name(C=BR,ST=Santa Catarina,L=Blumenau,O=Fundacao Universidade Regional de Blumenau FURB,CN=*.furb.br)>\n",
            "Emissor: <Name(C=BR,O=Rede Nacional de Ensino e Pesquisa - RNP,CN=RNP ICPEdu OV SSL CA 2019)>\n",
            "Autoassinado: False\n",
            "Período de validade: 2023-07-25 17:06:03 até 2024-08-25 17:06:02\n",
            "--------------------------------------------------\n",
            "Certificado: certificado2.crt\n",
            "Proprietário: <Name(1.3.6.1.4.1.311.60.2.1.3=BR,2.5.4.15=Private Organization,2.5.4.5=83.646.984/0006-14,C=BR,ST=Santa Catarina,L=Criciuma,O=A. Angeloni & Cia. Ltda,CN=www.angeloni.com.br)>\n",
            "Emissor: <Name(C=US,ST=Arizona,L=Scottsdale,O=GoDaddy.com\\, Inc.,OU=http://certs.godaddy.com/repository/,CN=Go Daddy Secure Certificate Authority - G2)>\n",
            "Autoassinado: False\n",
            "Período de validade: 2017-08-14 17:55:02 até 2019-08-14 17:55:02\n",
            "--------------------------------------------------\n",
            "Certificado: certificado3.cer\n",
            "Proprietário: <Name(C=BR,ST=SC,L=Blumenau,O=Univerdade Regional de Blumenau,OU=FURB,CN=Gilvan)>\n",
            "Emissor: <Name(C=BR,ST=SC,L=Blumenau,O=Univerdade Regional de Blumenau,OU=FURB,CN=Gilvan)>\n",
            "Autoassinado: True\n",
            "Período de validade: 2020-11-03 00:28:58 até 2021-11-03 00:28:58\n",
            "--------------------------------------------------\n"
          ]
        }
      ],
      "source": [
        "from cryptography import x509\n",
        "from cryptography.hazmat.backends import default_backend\n",
        "import os\n",
        "\n",
        "# Função para carregar e exibir informações do certificado\n",
        "def exibir_informacoes_certificado(caminho_certificado):\n",
        "    try:\n",
        "        with open(caminho_certificado, 'rb') as arquivo_certificado:\n",
        "            conteudo_certificado = arquivo_certificado.read()\n",
        "        try:\n",
        "            certificado = x509.load_pem_x509_certificate(conteudo_certificado, default_backend())\n",
        "        except ValueError:\n",
        "            certificado = x509.load_der_x509_certificate(conteudo_certificado, default_backend())\n",
        "\n",
        "        # Extraindo informações\n",
        "        proprietario = certificado.subject\n",
        "        emissor = certificado.issuer\n",
        "        autoassinado = emissor == proprietario\n",
        "        periodo_validade = (certificado.not_valid_before, certificado.not_valid_after)\n",
        "\n",
        "        # Exibindo informações\n",
        "        print(f\"Certificado: {caminho_certificado}\")\n",
        "        print(f\"Proprietário: {proprietario}\")\n",
        "        print(f\"Emissor: {emissor}\")\n",
        "        print(f\"Autoassinado: {autoassinado}\")\n",
        "        print(f\"Período de validade: {periodo_validade[0]} até {periodo_validade[1]}\")\n",
        "        print(\"-\" * 50)\n",
        "\n",
        "    except Exception as e:\n",
        "        print(f\"Erro ao carregar o certificado {caminho_certificado}: {e}\")\n",
        "\n",
        "# Caminhos para os arquivos de certificado\n",
        "caminhos_certificados = ['certificado1.crt', 'certificado2.crt', 'certificado3.cer']\n",
        "\n",
        "# Executar a função para cada certificado\n",
        "for caminho in caminhos_certificados:\n",
        "    exibir_informacoes_certificado(caminho)\n"
      ]
    },
    {
      "cell_type": "code",
      "source": [
        "from cryptography.hazmat.primitives import serialization\n",
        "from cryptography.hazmat.primitives.asymmetric import padding as asym_padding\n",
        "from cryptography.hazmat.primitives import hashes\n",
        "\n",
        "# Função para cifrar a chave AES com a chave pública\n",
        "def cifrar_chave_aes_com_chave_publica(caminho_certificado, chave_aes):\n",
        "    with open(caminho_certificado, 'rb') as arquivo_certificado:\n",
        "        conteudo_certificado = arquivo_certificado.read()\n",
        "        certificado = x509.load_pem_x509_certificate(conteudo_certificado, default_backend())\n",
        "        chave_publica = certificado.public_key()\n",
        "\n",
        "    # Cifrar a chave AES com a chave pública\n",
        "    chave_aes_cifrada = chave_publica.encrypt(\n",
        "        chave_aes,\n",
        "        asym_padding.OAEP(\n",
        "            mgf=asym_padding.MGF1(algorithm=hashes.SHA256()),\n",
        "            algorithm=hashes.SHA256(),\n",
        "            label=None\n",
        "        )\n",
        "    )\n",
        "\n",
        "    # Salvar a chave AES cifrada em um arquivo\n",
        "    with open('key.aes', 'wb') as arquivo_key_aes:\n",
        "        arquivo_key_aes.write(chave_aes_cifrada)\n",
        "\n",
        "    return chave_aes_cifrada\n",
        "\n",
        "# Caminho para o certificado que contém a chave pública\n",
        "caminho_certificado = 'certificado1.crt'\n",
        "\n",
        "# Cifrando a chave AES com a chave pública do certificado\n",
        "chave_aes_cifrada = cifrar_chave_aes_com_chave_publica(caminho_certificado, chave_aes)\n"
      ],
      "metadata": {
        "id": "yCynbPyAgHFO"
      },
      "execution_count": 9,
      "outputs": []
    },
    {
      "cell_type": "code",
      "source": [],
      "metadata": {
        "id": "5i0USZbRgldL"
      },
      "execution_count": null,
      "outputs": []
    }
  ]
}